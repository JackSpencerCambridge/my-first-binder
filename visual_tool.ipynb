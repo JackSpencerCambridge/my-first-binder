{
 "cells": [
  {
   "cell_type": "code",
   "execution_count": 2,
   "id": "72aafc34",
   "metadata": {},
   "outputs": [],
   "source": [
    "import pandas as pd\n",
    "import numpy as np\n",
    "import matplotlib.pyplot as plt\n",
    "import ipywidgets as widgets\n",
    "from ipywidgets import FloatSlider, interact, interactive, fixed, interact_manual\n",
    "from IPython.display import display\n",
    "import os\n",
    "import warnings\n",
    "\n",
    "pd.get_option(\"display.max_columns\", None)\n",
    "pd.get_option(\"display.max_rows\", None)\n",
    "warnings.filterwarnings(\"ignore\", message=\"Glyph 9 missing from current font.\")"
   ]
  },
  {
   "cell_type": "code",
   "execution_count": 3,
   "id": "c1024601",
   "metadata": {},
   "outputs": [],
   "source": [
    "layout = widgets.Layout(width='auto', height='40px')"
   ]
  },
  {
   "cell_type": "code",
   "execution_count": 4,
   "id": "b07d3cdb",
   "metadata": {},
   "outputs": [],
   "source": [
    "p = widgets.FloatSlider(\n",
    "    value=0.05,\n",
    "    min=0,\n",
    "    max=0.2,\n",
    "    step=0.00001,\n",
    "    description='P',\n",
    "    disabled=False,\n",
    "    continuous_update=False,\n",
    "    orientation='horizontal',\n",
    "    readout=True,\n",
    "    readout_format='.5f',\n",
    "    layout=layout\n",
    ")"
   ]
  },
  {
   "cell_type": "code",
   "execution_count": 5,
   "id": "8929a89d",
   "metadata": {},
   "outputs": [],
   "source": [
    "q = widgets.FloatSlider(\n",
    "    value=0.3,\n",
    "    min=0,\n",
    "    max=1,\n",
    "    step=0.0001,\n",
    "    description='Q',\n",
    "    disabled=False,\n",
    "    continuous_update=False,\n",
    "    orientation='horizontal',\n",
    "    readout=True,\n",
    "    readout_format='.4f',\n",
    "    layout=layout\n",
    ")"
   ]
  },
  {
   "cell_type": "code",
   "execution_count": 6,
   "id": "9cd4c591",
   "metadata": {},
   "outputs": [],
   "source": [
    "m = widgets.FloatSlider(\n",
    "    value=20,\n",
    "    min=1,\n",
    "    max=10000,\n",
    "    step=1,\n",
    "    description='M',\n",
    "    disabled=False,\n",
    "    continuous_update=False,\n",
    "    orientation='horizontal',\n",
    "    readout=True,\n",
    "    readout_format='.0f',\n",
    "    layout=layout\n",
    ")"
   ]
  },
  {
   "cell_type": "code",
   "execution_count": 21,
   "id": "c373a1ae",
   "metadata": {},
   "outputs": [],
   "source": [
    "def run_simulation(p,q,m):\n",
    "    '''\n",
    "    Run simulation and return historical observations for 2015-2021 and Bass model projectiosn for 2022-2030\n",
    "    '''\n",
    "    s = pd.Series(0, range(2015,2031))\n",
    "    S = pd.Series(0, range(2015,2031))\n",
    "    f = pd.Series(0, range(2015,2031))\n",
    "    F = pd.Series(0, range(2015,2031))\n",
    "\n",
    "    s.loc[2015] = p*m\n",
    "    S.loc[2015] = 0\n",
    "    f.loc[2015] = p\n",
    "    F.loc[2015] = 0\n",
    "        \n",
    "    for i in range(2016,2031):\n",
    "        S.loc[i] = S.loc[i-1] + s.loc[i-1]\n",
    "        F.loc[i] = F.loc[i-1] + f.loc[i-1]\n",
    "        f.loc[i] = (p + (q * F.loc[i])) * (1 - F.loc[i])\n",
    "        s.loc[i] = f.loc[i] * m\n",
    "    f*=100\n",
    "    F*=100\n",
    "    \n",
    "    fig, axes = plt.subplots(2, 2, figsize=(12,8))\n",
    "    s.plot(ax=axes[0,0], xticks=(np.arange(2014, 2031, 2)), ylabel='Units', title='Sales', legend=False)\n",
    "    S.plot(ax=axes[0,1], xticks=(np.arange(2014, 2031, 2)), ylabel='Units (cumulative)',\n",
    "           title='Cumulative Sales', legend=False)\n",
    "    f.plot(ax=axes[1,0], xticks=(np.arange(2014, 2031, 2)), ylabel='Percentage points', title='Sales PDF', legend=False)\n",
    "    F.plot(ax=axes[1,1], xticks=(np.arange(2014, 2031, 2)), ylabel='%', title='Sales PDF', legend=False)\n",
    "    axes[1,1].set_ylim(0,100)\n",
    "    axes[1,0].set_ylim(0,35)\n",
    "#    axes[0,1].set_ylim(0,((m//100)+1)*100)\n",
    "#    axes[0,0].set_ylim(0,(((m*0.35)//5)+1)*5)"
   ]
  },
  {
   "cell_type": "code",
   "execution_count": 22,
   "id": "9d625120",
   "metadata": {},
   "outputs": [
    {
     "data": {
      "application/vnd.jupyter.widget-view+json": {
       "model_id": "f5e2a248996440618b8e33bd22c961eb",
       "version_major": 2,
       "version_minor": 0
      },
      "text/plain": [
       "VBox(children=(FloatSlider(value=0.04688, continuous_update=False, description='P', layout=Layout(height='40px…"
      ]
     },
     "metadata": {},
     "output_type": "display_data"
    },
    {
     "data": {
      "application/vnd.jupyter.widget-view+json": {
       "model_id": "6ea90b68287d463e9de10747f1978744",
       "version_major": 2,
       "version_minor": 0
      },
      "text/plain": [
       "Output()"
      ]
     },
     "metadata": {},
     "output_type": "display_data"
    }
   ],
   "source": [
    "ui = widgets.VBox([p,q,m])\n",
    "out = widgets.interactive_output(run_simulation, {'p': p, 'q': q, 'm': m})\n",
    "\n",
    "display(ui, out)"
   ]
  },
  {
   "cell_type": "code",
   "execution_count": null,
   "id": "0aa5f58e",
   "metadata": {},
   "outputs": [],
   "source": []
  }
 ],
 "metadata": {
  "kernelspec": {
   "display_name": "Python 3",
   "language": "python",
   "name": "python3"
  },
  "language_info": {
   "codemirror_mode": {
    "name": "ipython",
    "version": 3
   },
   "file_extension": ".py",
   "mimetype": "text/x-python",
   "name": "python",
   "nbconvert_exporter": "python",
   "pygments_lexer": "ipython3",
   "version": "3.6.9"
  }
 },
 "nbformat": 4,
 "nbformat_minor": 5
}
